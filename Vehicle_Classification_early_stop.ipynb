{
  "nbformat": 4,
  "nbformat_minor": 0,
  "metadata": {
    "colab": {
      "name": "Vehicle_Classification_early_stop.ipynb",
      "provenance": [],
      "collapsed_sections": []
    },
    "kernelspec": {
      "name": "python3",
      "display_name": "Python 3"
    },
    "language_info": {
      "name": "python"
    },
    "accelerator": "GPU"
  },
  "cells": [
    {
      "cell_type": "code",
      "source": [
        "from google.colab import drive\n",
        "drive.mount('/content/drive')"
      ],
      "metadata": {
        "id": "KBxKvgY9axoY"
      },
      "execution_count": null,
      "outputs": []
    },
    {
      "cell_type": "code",
      "execution_count": null,
      "metadata": {
        "id": "bsxa7uT-ar70"
      },
      "outputs": [],
      "source": [
        "import tensorflow as tf\n",
        "from tensorflow.keras.layers import Conv2D, Input, ZeroPadding2D, BatchNormalization, Activation, MaxPooling2D, Flatten, Dense\n",
        "from tensorflow.keras.models import Model, load_model\n",
        "from tensorflow.keras.callbacks import ModelCheckpoint\n",
        "from sklearn.model_selection import train_test_split\n",
        "from sklearn.metrics import f1_score\n",
        "from sklearn.utils import shuffle\n",
        "import cv2\n",
        "import imutils\n",
        "import numpy as np\n",
        "import matplotlib.pyplot as plt\n",
        "import time\n",
        "from os import listdir"
      ]
    },
    {
      "cell_type": "code",
      "execution_count": null,
      "metadata": {
        "id": "_9I4jh3xar8I"
      },
      "outputs": [],
      "source": [
        "def load_data(dir_list, image_size):\n",
        "\n",
        "    X = []\n",
        "    y = []\n",
        "    image_width, image_height = image_size\n",
        "    \n",
        "    for directory in dir_list:\n",
        "        for filename in listdir(directory):\n",
        "            \n",
        "            image = cv2.imread(directory + '/' + filename)\n",
        "            image = cv2.resize(image, dsize=(image_width, image_height), interpolation=cv2.INTER_CUBIC)\n",
        "            image = image / 255.\n",
        "            X.append(image)\n",
        "            if directory[-3:] == 'ari':\n",
        "                y.append([1])\n",
        "            else:\n",
        "                y.append([0])\n",
        "                \n",
        "    X = np.array(X)\n",
        "    y = np.array(y)\n",
        "\n",
        "    X, y = shuffle(X, y)\n",
        "    \n",
        "    print(f'Number of examples is: {len(X)}')\n",
        "    print(f'X shape is: {X.shape}')\n",
        "    print(f'y shape is: {y.shape}')\n",
        "    \n",
        "    return X, y"
      ]
    },
    {
      "cell_type": "code",
      "execution_count": null,
      "metadata": {
        "id": "UqiaCprvar8L"
      },
      "outputs": [],
      "source": [
        "dataset = '/content/drive/MyDrive/Cars/dataset/'\n",
        "\n",
        "dataset_yes = dataset + 'Ferrari' \n",
        "dataset_no = dataset + 'Honda'\n",
        "\n",
        "IMG_WIDTH, IMG_HEIGHT = (240, 240)\n",
        "\n",
        "X, y = load_data([dataset_yes, dataset_no], (IMG_WIDTH, IMG_HEIGHT))"
      ]
    },
    {
      "cell_type": "code",
      "execution_count": null,
      "metadata": {
        "id": "TzG_QPlvar8S"
      },
      "outputs": [],
      "source": [
        "def split_data(X, y, test_size=0.1):\n",
        "    \n",
        "    X_train, X_test, y_train, y_test = train_test_split(X, y, test_size=0.10)\n",
        "    \n",
        "    return X_train, y_train, X_test, y_test"
      ]
    },
    {
      "cell_type": "code",
      "execution_count": null,
      "metadata": {
        "id": "WJjiAZYkar8T"
      },
      "outputs": [],
      "source": [
        "X_train, y_train, X_test, y_test = split_data(X, y, test_size=0.1)"
      ]
    },
    {
      "cell_type": "code",
      "source": [
        "del X\n",
        "del y"
      ],
      "metadata": {
        "id": "J36qSMXMj6GK"
      },
      "execution_count": null,
      "outputs": []
    },
    {
      "cell_type": "code",
      "execution_count": null,
      "metadata": {
        "id": "yFX_FquPar8W"
      },
      "outputs": [],
      "source": [
        "def build_model(input_shape):\n",
        "\n",
        "    X_input = Input(input_shape) \n",
        "    \n",
        "    X = ZeroPadding2D((2, 2))(X_input) \n",
        "\n",
        "    X = Conv2D(32, (5, 5), strides = (1, 1), name = 'conv0')(X)\n",
        "    X = Activation('relu')(X)\n",
        "\n",
        "    X = MaxPooling2D((2, 2), name='max_pool0')(X)\n",
        "    \n",
        "    X = Conv2D(32, (5, 5), strides = (1, 1), name = 'conv1')(X)\n",
        "    X = Activation('relu')(X)\n",
        "\n",
        "    X = MaxPooling2D((2, 2), name='max_pool1')(X)\n",
        "\n",
        "    X = Flatten()(X) \n",
        "\n",
        "    X = Dense(1, activation='sigmoid', name='fc')(X)\n",
        "    \n",
        "    model = Model(inputs = X_input, outputs = X, name='VehicleDetectionModel')\n",
        "    \n",
        "    return model"
      ]
    },
    {
      "cell_type": "code",
      "execution_count": null,
      "metadata": {
        "id": "uxCfdzVCar8X"
      },
      "outputs": [],
      "source": [
        "IMG_SHAPE = (IMG_WIDTH, IMG_HEIGHT, 3)"
      ]
    },
    {
      "cell_type": "code",
      "execution_count": null,
      "metadata": {
        "id": "0tVt2b_1ar8X"
      },
      "outputs": [],
      "source": [
        "model = build_model(IMG_SHAPE)"
      ]
    },
    {
      "cell_type": "code",
      "execution_count": null,
      "metadata": {
        "id": "K_MzACHAar8X"
      },
      "outputs": [],
      "source": [
        "model.summary()"
      ]
    },
    {
      "cell_type": "code",
      "execution_count": null,
      "metadata": {
        "id": "1oR62gT9ar8Y"
      },
      "outputs": [],
      "source": [
        "model.compile(optimizer='adam', loss='binary_crossentropy', metrics=['accuracy'])"
      ]
    },
    {
      "cell_type": "code",
      "execution_count": null,
      "metadata": {
        "id": "eVSez7ePar8Y"
      },
      "outputs": [],
      "source": [
        "\n",
        "filepath=\"cnn-parameters-improvement-{epoch:02d}-{val_accuracy:.2f}\"\n",
        "\n",
        "checkpoint = ModelCheckpoint(\"{}.model\".format(filepath, monitor='val_accuracy', verbose=1, save_best_only=True, mode='max'))"
      ]
    },
    {
      "cell_type": "code",
      "source": [
        "callback = tf.keras.callbacks.EarlyStopping(monitor='val_loss', patience=3)#,min_delta=0)"
      ],
      "metadata": {
        "id": "nUiiABThqRtc"
      },
      "execution_count": null,
      "outputs": []
    },
    {
      "cell_type": "code",
      "execution_count": null,
      "metadata": {
        "scrolled": false,
        "id": "G2wPNj3-ar8Z"
      },
      "outputs": [],
      "source": [
        "model.fit(x=X_train, y=y_train, batch_size=32, epochs=10, validation_data=(X_test, y_test), callbacks=[checkpoint,callback])"
      ]
    },
    {
      "cell_type": "code",
      "execution_count": null,
      "metadata": {
        "id": "0W06Ze5Kar8a"
      },
      "outputs": [],
      "source": [
        "def load_data1(file_path,image_size):\n",
        "    \n",
        "    X2 = []\n",
        "    \n",
        "    image_width, image_height = image_size\n",
        "    print(file_path)\n",
        "    image = cv2.imread(file_path)\n",
        "    image = cv2.resize(image, dsize=(image_width, image_height), interpolation=cv2.INTER_CUBIC)\n",
        "    image = image / 255.\n",
        "    X2.append(image)\n",
        "    \n",
        "    X2 = np.array(X2)\n",
        "    \n",
        "    print(f'Number of examples is: {len(X2)}')\n",
        "    print(f'X shape is: {X2.shape}')\n",
        "    \n",
        "    return X2\n",
        "    "
      ]
    },
    {
      "cell_type": "code",
      "execution_count": null,
      "metadata": {
        "id": "-ssekpinar8b"
      },
      "outputs": [],
      "source": [
        "file_path='/content/drive/MyDrive/Cars/dataset/Honda/010352.jpg'\n",
        "img=load_data1(file_path,(IMG_WIDTH, IMG_HEIGHT))"
      ]
    },
    {
      "cell_type": "code",
      "execution_count": null,
      "metadata": {
        "id": "jr69F0iGar8b"
      },
      "outputs": [],
      "source": [
        "\n",
        "ss=model.predict(img)\n",
        "\n",
        "if ss[0][0]>0.5:\n",
        "    output=\"Ferrari\"\n",
        "else:\n",
        "    output=\"Honda\"\n",
        "        \n",
        "print(output)"
      ]
    },
    {
      "cell_type": "code",
      "execution_count": null,
      "metadata": {
        "id": "hkFwhHIiar8b"
      },
      "outputs": [],
      "source": [
        "best_model = load_model(filepath='cnn-parameters-improvement-01-0.89.model')\n",
        "\n",
        "ss=best_model.predict(img)\n",
        "\n",
        "\n",
        "if ss[0][0]>0.5:\n",
        "    output=\"Ferrari\"\n",
        "else:\n",
        "    output=\"Honda\"\n",
        "        \n",
        "print(output)"
      ]
    }
  ]
}