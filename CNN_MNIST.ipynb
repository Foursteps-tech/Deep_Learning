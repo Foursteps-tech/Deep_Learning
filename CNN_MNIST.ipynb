{
  "nbformat": 4,
  "nbformat_minor": 0,
  "metadata": {
    "colab": {
      "name": "CNN_MNIST.ipynb",
      "provenance": [],
      "collapsed_sections": []
    },
    "kernelspec": {
      "name": "python3",
      "display_name": "Python 3"
    },
    "accelerator": "GPU"
  },
  "cells": [
    {
      "cell_type": "markdown",
      "metadata": {
        "id": "HXky4dBftfxH"
      },
      "source": [
        "# **CNN for the MNIST Dataset**"
      ]
    },
    {
      "cell_type": "markdown",
      "metadata": {
        "id": "zq2XSbInth2w"
      },
      "source": [
        "**Import libraries**"
      ]
    },
    {
      "cell_type": "code",
      "metadata": {
        "id": "fzETeuNFte0z"
      },
      "source": [
        "import numpy\n",
        "import tensorflow as tf\n",
        "from tensorflow.keras.datasets import mnist\n",
        "from tensorflow.keras.layers import Conv2D, Input, Activation, MaxPooling2D, Flatten, Dense\n",
        "from tensorflow.keras.models import Model\n",
        "from keras.utils import np_utils"
      ],
      "execution_count": 1,
      "outputs": []
    },
    {
      "cell_type": "code",
      "metadata": {
        "id": "yWf_08NYtrQV"
      },
      "source": [
        "seed = 7\n",
        "numpy.random.seed(seed)"
      ],
      "execution_count": 2,
      "outputs": []
    },
    {
      "cell_type": "markdown",
      "metadata": {
        "id": "IlOdWpOZtsS2"
      },
      "source": [
        "**Load the Dataset**"
      ]
    },
    {
      "cell_type": "code",
      "metadata": {
        "id": "SdSIWaaetuVO"
      },
      "source": [
        "(X_train, y_train), (X_test, y_test) = mnist.load_data()"
      ],
      "execution_count": 13,
      "outputs": []
    },
    {
      "cell_type": "code",
      "source": [
        "IMG_SHAPE = (28,28,1)"
      ],
      "metadata": {
        "id": "slsWG1bveU5D"
      },
      "execution_count": 14,
      "outputs": []
    },
    {
      "cell_type": "markdown",
      "metadata": {
        "id": "e47gv5YDt31D"
      },
      "source": [
        "**normalize inputs from 0-255 to 0-1**"
      ]
    },
    {
      "cell_type": "code",
      "metadata": {
        "id": "75zbSJIft57-"
      },
      "source": [
        "X_train = X_train / 255\n",
        "X_test = X_test / 255"
      ],
      "execution_count": 15,
      "outputs": []
    },
    {
      "cell_type": "markdown",
      "metadata": {
        "id": "Y7li67Ojt8WN"
      },
      "source": [
        "**one hot encode outputs**"
      ]
    },
    {
      "cell_type": "code",
      "metadata": {
        "id": "UfyYL_yNt-Jc"
      },
      "source": [
        "y_train = np_utils.to_categorical(y_train)\n",
        "y_test = np_utils.to_categorical(y_test)\n",
        "num_classes = y_test.shape[1]"
      ],
      "execution_count": 16,
      "outputs": []
    },
    {
      "cell_type": "markdown",
      "metadata": {
        "id": "m9TtKvH-t__S"
      },
      "source": [
        "**define a simple CNN model**"
      ]
    },
    {
      "cell_type": "code",
      "metadata": {
        "id": "xEWaXAhluCB2"
      },
      "source": [
        "def baseline_model(input_shape):\n",
        "    # create model\n",
        "    X_input = Input(input_shape)\n",
        "    X = Conv2D(32,(5,5),strides=(1,1),name='conv0')(X_input)\n",
        "    X = Activation('relu')(X)\n",
        "    X = MaxPooling2D((2, 2), name='max_pool0')(X)\n",
        "    X = Flatten()(X)\n",
        "    X = Dense(128,activation='relu',name='fc1')(X)\n",
        "    X = Dense(num_classes, activation='softmax')(X)\n",
        "    model = Model(inputs = X_input, outputs = X, name='Simple_MnistNet')\n",
        "    # Compile model\n",
        "    model.compile(loss='categorical_crossentropy', optimizer='adam', metrics=['accuracy'])\n",
        "    return model"
      ],
      "execution_count": 17,
      "outputs": []
    },
    {
      "cell_type": "markdown",
      "metadata": {
        "id": "In1MVsRruE-J"
      },
      "source": [
        "**Build the model**"
      ]
    },
    {
      "cell_type": "code",
      "metadata": {
        "id": "nbWmnRycuG4H"
      },
      "source": [
        "model = baseline_model(IMG_SHAPE)\n",
        "model.summary()"
      ],
      "execution_count": null,
      "outputs": []
    },
    {
      "cell_type": "markdown",
      "source": [
        "**Train Model**"
      ],
      "metadata": {
        "id": "L2YPcuJdf373"
      }
    },
    {
      "cell_type": "code",
      "source": [
        "print (X_test.shape)"
      ],
      "metadata": {
        "id": "9fc_KZrEhAqi"
      },
      "execution_count": null,
      "outputs": []
    },
    {
      "cell_type": "code",
      "source": [
        "model.fit(X_train, y_train, validation_data=(X_test, y_test), epochs=10, batch_size=200, verbose=1)"
      ],
      "metadata": {
        "id": "sxMzXlmPf1nr"
      },
      "execution_count": null,
      "outputs": []
    },
    {
      "cell_type": "markdown",
      "metadata": {
        "id": "idNWzrokuKhy"
      },
      "source": [
        "**Final evaluation of the model**"
      ]
    },
    {
      "cell_type": "code",
      "metadata": {
        "id": "BU6Q3vmpuLIW"
      },
      "source": [
        "scores = model.evaluate(X_test, y_test, verbose=0)\n",
        "print(\"CNN Error: %.2f%%\" % (100-scores[1]*100))"
      ],
      "execution_count": null,
      "outputs": []
    }
  ]
}